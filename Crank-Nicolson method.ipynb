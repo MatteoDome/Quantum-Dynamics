{
 "cells": [
  {
   "cell_type": "markdown",
   "metadata": {},
   "source": [
    "# Crank-Nicolson method\n",
    "\n",
    "The Schrodinger equation reads\n",
    "\n",
    "\\begin{equation}\n",
    "i \\hbar \\frac{\\partial \\psi}{\\partial t} = \\hat{H} \\psi \n",
    "\\end{equation}\n",
    "\n",
    "In one dimension if we discretize space and time we can write:\n",
    "\n",
    "\\begin{align}\n",
    "&i \\hbar \\frac{\\psi(x, t+h) - \\psi(x, t)}{h} = \\hat{H} \\psi(x, t+h) \\\\ \n",
    "&\\left(\\frac{i \\hbar}{h} - \\hat{H} \\right) \\psi(x, t+h) = \\hat{H} \\psi(x,t) \\\\\n",
    "& \\psi(x, t+h) = \\left(\\frac{i \\hbar}{h} - \\hat{H} \\right)^{-1} \\hat{H} \\psi(x,t)\n",
    "\\end{align}\n",
    "\n",
    "Where $h$ denotes a time step. To solve the equation we merely have to compute the operator $\\left(\\frac{i \\hbar}{h} - \\hat{H} \\right)^{-1} \\hat{H}$.\n",
    "\n",
    "By discretizing space with a step $a$ one can write:\n",
    "\\begin{equation}\n",
    "\\hat{H} \\psi = \\left( -\\frac{\\hbar^2}{2m} \\frac{d^2}{dx^2} + V(x) \\right) \\psi =  -\\frac{\\hbar^2}{2ma^2}(\\psi(x+a, t) + \\psi(x-a,t) - 2 \\psi(x, t)) + V(x) \\psi(x,t)\n",
    "\\end{equation}\n",
    "\n",
    "In the position basis and taking periodic boundary conditions we can write the operator in matrix form:\n",
    "\\begin{equation}\n",
    "\\hat{H} = -\\frac{\\hbar^2}{2ma^2}\n",
    "\\begin{pmatrix}\n",
    "-2  \\psi(0, t) & \\psi(0,t) & 0 & \\dots & \\psi(a, t) \\\\\n",
    "\\psi(a, t) & -2 \\psi(a,t) & \\psi(a, t)  & 0 & \\dots \\\\\n",
    "0 & \\psi(2a, t) & -2 \\psi(2a, t) & \\psi(2a,t) & \\dots \\\\\n",
    "\\vdots & \\ddots & \\ddots & \\ddots & \\ddots \\\\\n",
    "\\psi(L-a, t) & \\dots & \\dots & \\psi(L-2a,t) & -2 \\psi(L-a, t)\n",
    "\\end{pmatrix}\n",
    "+\n",
    "\\begin{pmatrix}\n",
    "V(0) & 0 & 0 & \\dots & 0 \\\\\n",
    "0 & V(a) & 0  & 0 & \\dots \\\\\n",
    "0 & 0 & V(2a) & 0 & \\dots \\\\\n",
    "\\vdots & \\ddots & \\ddots & \\ddots & \\ddots \\\\\n",
    "0 & \\dots & \\dots & 0 & V(L-a)\n",
    "\\end{pmatrix}\n",
    "\\end{equation}"
   ]
  },
  {
   "cell_type": "code",
   "execution_count": 206,
   "metadata": {
    "collapsed": false
   },
   "outputs": [],
   "source": [
    "import numpy as np\n",
    "import matplotlib.pyplot as plt\n",
    "import scipy.sparse.linalg as linalg"
   ]
  },
  {
   "cell_type": "code",
   "execution_count": 251,
   "metadata": {
    "collapsed": false
   },
   "outputs": [],
   "source": [
    "def kth_diagonal_indices(size, k):\n",
    "    rows, cols = np.indices((size, size))\n",
    "    row_vals = np.diag(rows, k = k)\n",
    "    col_vals = np.diag(cols, k = k)\n",
    "    \n",
    "    return row_vals, col_vals"
   ]
  },
  {
   "cell_type": "code",
   "execution_count": 286,
   "metadata": {
    "collapsed": true
   },
   "outputs": [],
   "source": [
    "def barrier(x):\n",
    "    if x>0.5 and x<1.5:\n",
    "        return 5\n",
    "    else:\n",
    "        return 0"
   ]
  },
  {
   "cell_type": "code",
   "execution_count": 317,
   "metadata": {
    "collapsed": true
   },
   "outputs": [],
   "source": [
    "dx = 0.1\n",
    "dt = 0.01\n",
    "L = 2\n",
    "T = 2"
   ]
  },
  {
   "cell_type": "code",
   "execution_count": 318,
   "metadata": {
    "collapsed": false
   },
   "outputs": [],
   "source": [
    "x = np.linspace(0, 2, num = int(L/dx))\n",
    "psi = np.zeros(shape = (int(L/dx), int(T/dt)))\n",
    "psi[:, 0] = np.exp(-(x-0.3)**2/0.001)\n",
    "psi[:, 0] = psi[:, 0]/np.sum(dx*psi[:, 0]**2)"
   ]
  },
  {
   "cell_type": "code",
   "execution_count": 330,
   "metadata": {
    "collapsed": false
   },
   "outputs": [],
   "source": [
    "H = np.matrix(np.zeros( shape = (int(L/dx), int(L/dx)) ))\n",
    "\n",
    "#    Diagonal elements\n",
    "np.fill_diagonal(H[:, :], psi[:, 0]/dx**2 + np.vectorize(barrier)(x))\n",
    "\n",
    "#    Off diagonal elements\n",
    "H[kth_diagonal_indices(int(L/dx), 1)] = -psi[0:int(L/dx)-1, 0]/(2*dx**2)\n",
    "H[kth_diagonal_indices(int(L/dx), -1)] = -psi[0:int(L/dx)-1, 0]/(2*dx**2)\n",
    "\n",
    "#   Elements due to boundary conditions\n",
    "H[int(L/dx)-1, 0] = -psi[0, 0]/(2*dx**2)\n",
    "H[0, int(L/dx)-1] = -psi[0, 0]/(2*dx**2)"
   ]
  },
  {
   "cell_type": "code",
   "execution_count": 331,
   "metadata": {
    "collapsed": true
   },
   "outputs": [],
   "source": [
    "A = 1j/dt - H"
   ]
  },
  {
   "cell_type": "code",
   "execution_count": 336,
   "metadata": {
    "collapsed": false
   },
   "outputs": [
    {
     "data": {
      "text/plain": [
       "matrix([[ True,  True,  True,  True,  True,  True,  True,  True,  True,\n",
       "          True,  True,  True,  True,  True,  True,  True,  True,  True,\n",
       "          True,  True],\n",
       "        [ True,  True,  True,  True,  True,  True,  True,  True,  True,\n",
       "          True,  True,  True,  True,  True,  True,  True,  True,  True,\n",
       "          True,  True],\n",
       "        [ True,  True,  True,  True,  True,  True,  True,  True,  True,\n",
       "          True,  True,  True,  True,  True,  True,  True,  True,  True,\n",
       "          True,  True],\n",
       "        [ True,  True,  True,  True,  True,  True,  True,  True,  True,\n",
       "          True,  True,  True,  True,  True,  True,  True,  True,  True,\n",
       "          True,  True],\n",
       "        [ True,  True,  True,  True,  True,  True,  True,  True,  True,\n",
       "          True,  True,  True,  True,  True,  True,  True,  True,  True,\n",
       "          True,  True],\n",
       "        [ True,  True,  True,  True,  True,  True,  True,  True,  True,\n",
       "          True,  True,  True,  True,  True,  True,  True,  True,  True,\n",
       "          True,  True],\n",
       "        [ True,  True,  True,  True,  True,  True,  True,  True,  True,\n",
       "          True,  True,  True,  True,  True,  True,  True,  True,  True,\n",
       "          True,  True],\n",
       "        [ True,  True,  True,  True,  True,  True,  True,  True,  True,\n",
       "          True,  True,  True,  True,  True,  True,  True,  True,  True,\n",
       "          True,  True],\n",
       "        [ True,  True,  True,  True,  True,  True,  True,  True,  True,\n",
       "          True,  True,  True,  True,  True,  True,  True,  True,  True,\n",
       "          True,  True],\n",
       "        [ True,  True,  True,  True,  True,  True,  True,  True,  True,\n",
       "          True,  True,  True,  True,  True,  True,  True,  True,  True,\n",
       "          True,  True],\n",
       "        [ True,  True,  True,  True,  True,  True,  True,  True,  True,\n",
       "          True,  True,  True,  True,  True,  True,  True,  True,  True,\n",
       "          True,  True],\n",
       "        [ True,  True,  True,  True,  True,  True,  True,  True,  True,\n",
       "          True,  True,  True,  True,  True,  True,  True,  True,  True,\n",
       "          True,  True],\n",
       "        [ True,  True,  True,  True,  True,  True,  True,  True,  True,\n",
       "          True,  True,  True,  True,  True,  True,  True,  True,  True,\n",
       "          True,  True],\n",
       "        [ True,  True,  True,  True,  True,  True,  True,  True,  True,\n",
       "          True,  True,  True,  True,  True,  True,  True,  True,  True,\n",
       "          True,  True],\n",
       "        [ True,  True,  True,  True,  True,  True,  True,  True,  True,\n",
       "          True,  True,  True,  True,  True,  True,  True,  True,  True,\n",
       "          True,  True],\n",
       "        [ True,  True,  True,  True,  True,  True,  True,  True,  True,\n",
       "          True,  True,  True,  True,  True,  True,  True,  True,  True,\n",
       "          True,  True],\n",
       "        [ True,  True,  True,  True,  True,  True,  True,  True,  True,\n",
       "          True,  True,  True,  True,  True,  True,  True,  True,  True,\n",
       "          True,  True],\n",
       "        [ True,  True,  True,  True,  True,  True,  True,  True,  True,\n",
       "          True,  True,  True,  True,  True,  True,  True,  True,  True,\n",
       "          True,  True],\n",
       "        [ True,  True,  True,  True,  True,  True,  True,  True,  True,\n",
       "          True,  True,  True,  True,  True,  True,  True,  True,  True,\n",
       "          True,  True],\n",
       "        [ True,  True,  True,  True,  True,  True,  True,  True,  True,\n",
       "          True,  True,  True,  True,  True,  True,  True,  True,  True,\n",
       "          True,  True]], dtype=bool)"
      ]
     },
     "execution_count": 336,
     "metadata": {},
     "output_type": "execute_result"
    }
   ],
   "source": [
    "H.T == H"
   ]
  }
 ],
 "metadata": {
  "kernelspec": {
   "display_name": "Python 3",
   "language": "python",
   "name": "python3"
  },
  "language_info": {
   "codemirror_mode": {
    "name": "ipython",
    "version": 3
   },
   "file_extension": ".py",
   "mimetype": "text/x-python",
   "name": "python",
   "nbconvert_exporter": "python",
   "pygments_lexer": "ipython3",
   "version": "3.5.1"
  }
 },
 "nbformat": 4,
 "nbformat_minor": 0
}
