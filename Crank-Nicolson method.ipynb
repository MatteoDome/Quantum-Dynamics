{
 "cells": [
  {
   "cell_type": "markdown",
   "metadata": {},
   "source": [
    "# Crank-Nicolson method\n",
    "\n",
    "The Schrodinger equation reads\n",
    "\n",
    "\\begin{equation}\n",
    "i \\hbar \\frac{\\partial \\psi}{\\partial t} = \\hat{H} \\psi \n",
    "\\end{equation}\n",
    "\n",
    "In one dimension if we discretize space and time we can write:\n",
    "\n",
    "\\begin{align}\n",
    "&i \\hbar \\frac{\\psi(x, t+h) - \\psi(x, t)}{h} = \\hat{H} \\psi(x, t+h) \\\\ \n",
    "&\\left(\\frac{i \\hbar}{h} - \\hat{H} \\right) \\psi(x, t+h) = \\hat{H} \\psi(x,t) \\\\\n",
    "& \\psi(x, t+h) = \\left(\\frac{i \\hbar}{h} - \\hat{H} \\right)^{-1} \\hat{H} \\psi(x,t)\n",
    "\\end{align}\n",
    "\n",
    "Where $h$ denotes a time step. To solve the equation we merely have to compute the operator $\\left(\\frac{i \\hbar}{h} - \\hat{H} \\right)^{-1} \\hat{H}$.\n",
    "\n",
    "By discretizing space with a step $a$ one can write:\n",
    "\\begin{equation}\n",
    "\\hat{H} \\psi = \\left( -\\frac{\\hbar^2}{2m} \\frac{d^2}{dx^2} + V(x) \\right) \\psi =  -\\frac{\\hbar^2}{2ma^2}(\\psi(x+a, t) + \\psi(x-a,t) - 2 \\psi(x, t)) + V(x) \\psi(x,t)\n",
    "\\end{equation}\n",
    "\n",
    "In the position basis and taking periodic boundary conditions we can write the operator in matrix form:\n",
    "\\begin{equation}\n",
    "\\hat{H} = -\\frac{\\hbar^2}{2ma^2}\n",
    "\\begin{pmatrix}\n",
    "-2  \\psi(0, t) & \\psi(0,t) & 0 & \\dots & \\psi(a, t) \\\\\n",
    "\\psi(a, t) & -2 \\psi(a,t) & \\psi(a, t)  & 0 & \\dots \\\\\n",
    "0 & \\psi(2a, t) & -2 \\psi(2a, t) & \\psi(2a,t) & \\dots \\\\\n",
    "\\vdots & \\ddots & \\ddots & \\ddots & \\ddots \\\\\n",
    "\\psi(L-a, t) & \\dots & \\dots & \\psi(L-2a,t) & -2 \\psi(L-a, t)\n",
    "\\end{pmatrix}\n",
    "+\n",
    "\\begin{pmatrix}\n",
    "V(0) & 0 & 0 & \\dots & 0 \\\\\n",
    "0 & V(a) & 0  & 0 & \\dots \\\\\n",
    "0 & 0 & V(2a) & 0 & \\dots \\\\\n",
    "\\vdots & \\ddots & \\ddots & \\ddots & \\ddots \\\\\n",
    "0 & \\dots & \\dots & 0 & V(L-a)\n",
    "\\end{pmatrix}\n",
    "\\end{equation}"
   ]
  },
  {
   "cell_type": "code",
   "execution_count": 9,
   "metadata": {
    "collapsed": false
   },
   "outputs": [],
   "source": [
    "%matplotlib inline\n",
    "\n",
    "import numpy as np\n",
    "import matplotlib.pyplot as plt\n",
    "import scipy.sparse.linalg as linalg"
   ]
  },
  {
   "cell_type": "code",
   "execution_count": 10,
   "metadata": {
    "collapsed": false
   },
   "outputs": [],
   "source": [
    "def kth_diagonal_indices(size, k):\n",
    "    rows, cols = np.indices((size, size))\n",
    "    row_vals = np.diag(rows, k = k)\n",
    "    col_vals = np.diag(cols, k = k)\n",
    "    \n",
    "    return row_vals, col_vals"
   ]
  },
  {
   "cell_type": "code",
   "execution_count": 23,
   "metadata": {
    "collapsed": true
   },
   "outputs": [],
   "source": [
    "def barrier(x):\n",
    "    if x>0.5 and x<1.5:\n",
    "        return 4\n",
    "    else:\n",
    "        return 0"
   ]
  },
  {
   "cell_type": "code",
   "execution_count": 24,
   "metadata": {
    "collapsed": true
   },
   "outputs": [],
   "source": [
    "dx = 0.01\n",
    "dt = 0.01\n",
    "L = 2\n",
    "T = 2"
   ]
  },
  {
   "cell_type": "code",
   "execution_count": 25,
   "metadata": {
    "collapsed": false
   },
   "outputs": [
    {
     "data": {
      "image/png": "[encoded data removed]",
      "text/plain": [
       "<matplotlib.figure.Figure at 0x7f7a30716a20>"
      ]
     },
     "metadata": {},
     "output_type": "display_data"
    }
   ],
   "source": [
    "x = np.linspace(0, 2, num = int(L/dx))\n",
    "psi = np.zeros(shape = (int(L/dx), int(T/dt)))\n",
    "psi[:, 0] = np.exp(-(x-0.3)**2/0.01)\n",
    "psi[:, 0] = psi[:, 0]/np.sum(dx*psi[:, 0]**2)\n",
    "V = np.vectorize(barrier)(x)\n",
    "plt.plot(x, psi)\n",
    "plt.plot(x, V)\n",
    "plt.show()"
   ]
  },
  {
   "cell_type": "code",
   "execution_count": 26,
   "metadata": {
    "collapsed": false
   },
   "outputs": [],
   "source": [
    "H = np.matrix(np.zeros( shape = (int(L/dx), int(L/dx)) ))\n",
    "\n",
    "#    Diagonal elements\n",
    "np.fill_diagonal(H[:, :], psi[:, 0]/dx**2 + V)\n",
    "\n",
    "#    Off diagonal elements\n",
    "H[kth_diagonal_indices(int(L/dx), 1)] = -psi[0:int(L/dx)-1, 0]/(2*dx**2)\n",
    "H[kth_diagonal_indices(int(L/dx), -1)] = -psi[0:int(L/dx)-1, 0]/(2*dx**2)\n",
    "\n",
    "#   Elements due to boundary conditions\n",
    "H[int(L/dx)-1, 0] = -psi[0, 0]/(2*dx**2)\n",
    "H[0, int(L/dx)-1] = -psi[0, 0]/(2*dx**2)"
   ]
  },
  {
   "cell_type": "code",
   "execution_count": 27,
   "metadata": {
    "collapsed": true
   },
   "outputs": [],
   "source": [
    "A = 1j/dt - H"
   ]
  },
  {
   "cell_type": "code",
   "execution_count": 28,
   "metadata": {
    "collapsed": false
   },
   "outputs": [
    {
     "ename": "LinAlgError",
     "evalue": "singular matrix",
     "output_type": "error",
     "traceback": [
      "\u001b[1;31m---------------------------------------------------------------------------\u001b[0m",
      "\u001b[1;31mLinAlgError\u001b[0m                               Traceback (most recent call last)",
      "\u001b[1;32m<ipython-input-28-8c5a6d46c012>\u001b[0m in \u001b[0;36m<module>\u001b[1;34m()\u001b[0m\n\u001b[1;32m----> 1\u001b[1;33m \u001b[0mA\u001b[0m\u001b[1;33m.\u001b[0m\u001b[0mI\u001b[0m\u001b[1;33m\u001b[0m\u001b[0m\n\u001b[0m",
      "\u001b[1;32m/home/andre/anaconda3/lib/python3.5/site-packages/numpy/matrixlib/defmatrix.py\u001b[0m in \u001b[0;36mgetI\u001b[1;34m(self)\u001b[0m\n\u001b[0;32m    960\u001b[0m         \u001b[1;32melse\u001b[0m\u001b[1;33m:\u001b[0m\u001b[1;33m\u001b[0m\u001b[0m\n\u001b[0;32m    961\u001b[0m             \u001b[1;32mfrom\u001b[0m \u001b[0mnumpy\u001b[0m\u001b[1;33m.\u001b[0m\u001b[0mdual\u001b[0m \u001b[1;32mimport\u001b[0m \u001b[0mpinv\u001b[0m \u001b[1;32mas\u001b[0m \u001b[0mfunc\u001b[0m\u001b[1;33m\u001b[0m\u001b[0m\n\u001b[1;32m--> 962\u001b[1;33m         \u001b[1;32mreturn\u001b[0m \u001b[0masmatrix\u001b[0m\u001b[1;33m(\u001b[0m\u001b[0mfunc\u001b[0m\u001b[1;33m(\u001b[0m\u001b[0mself\u001b[0m\u001b[1;33m)\u001b[0m\u001b[1;33m)\u001b[0m\u001b[1;33m\u001b[0m\u001b[0m\n\u001b[0m\u001b[0;32m    963\u001b[0m \u001b[1;33m\u001b[0m\u001b[0m\n\u001b[0;32m    964\u001b[0m     \u001b[1;32mdef\u001b[0m \u001b[0mgetA\u001b[0m\u001b[1;33m(\u001b[0m\u001b[0mself\u001b[0m\u001b[1;33m)\u001b[0m\u001b[1;33m:\u001b[0m\u001b[1;33m\u001b[0m\u001b[0m\n",
      "\u001b[1;32m/home/andre/anaconda3/lib/python3.5/site-packages/scipy/linalg/basic.py\u001b[0m in \u001b[0;36minv\u001b[1;34m(a, overwrite_a, check_finite)\u001b[0m\n\u001b[0;32m    685\u001b[0m         \u001b[0minv_a\u001b[0m\u001b[1;33m,\u001b[0m \u001b[0minfo\u001b[0m \u001b[1;33m=\u001b[0m \u001b[0mgetri\u001b[0m\u001b[1;33m(\u001b[0m\u001b[0mlu\u001b[0m\u001b[1;33m,\u001b[0m \u001b[0mpiv\u001b[0m\u001b[1;33m,\u001b[0m \u001b[0mlwork\u001b[0m\u001b[1;33m=\u001b[0m\u001b[0mlwork\u001b[0m\u001b[1;33m,\u001b[0m \u001b[0moverwrite_lu\u001b[0m\u001b[1;33m=\u001b[0m\u001b[1;36m1\u001b[0m\u001b[1;33m)\u001b[0m\u001b[1;33m\u001b[0m\u001b[0m\n\u001b[0;32m    686\u001b[0m     \u001b[1;32mif\u001b[0m \u001b[0minfo\u001b[0m \u001b[1;33m>\u001b[0m \u001b[1;36m0\u001b[0m\u001b[1;33m:\u001b[0m\u001b[1;33m\u001b[0m\u001b[0m\n\u001b[1;32m--> 687\u001b[1;33m         \u001b[1;32mraise\u001b[0m \u001b[0mLinAlgError\u001b[0m\u001b[1;33m(\u001b[0m\u001b[1;34m\"singular matrix\"\u001b[0m\u001b[1;33m)\u001b[0m\u001b[1;33m\u001b[0m\u001b[0m\n\u001b[0m\u001b[0;32m    688\u001b[0m     \u001b[1;32mif\u001b[0m \u001b[0minfo\u001b[0m \u001b[1;33m<\u001b[0m \u001b[1;36m0\u001b[0m\u001b[1;33m:\u001b[0m\u001b[1;33m\u001b[0m\u001b[0m\n\u001b[0;32m    689\u001b[0m         raise ValueError('illegal value in %d-th argument of internal '\n",
      "\u001b[1;31mLinAlgError\u001b[0m: singular matrix"
     ]
    }
   ],
   "source": [
    "A.I"
   ]
  },
  {
   "cell_type": "code",
   "execution_count": 29,
   "metadata": {
    "collapsed": false,
    "scrolled": true
   },
   "outputs": [
    {
     "data": {
      "text/plain": [
       "matrix([], shape=(1, 0), dtype=float64)"
      ]
     },
     "execution_count": 29,
     "metadata": {},
     "output_type": "execute_result"
    }
   ],
   "source": [
    "H[H.T != H]"
   ]
  }
 ],
 "metadata": {
  "kernelspec": {
   "display_name": "Python 3",
   "language": "python",
   "name": "python3"
  },
  "language_info": {
   "codemirror_mode": {
    "name": "ipython",
    "version": 3
   },
   "file_extension": ".py",
   "mimetype": "text/x-python",
   "name": "python",
   "nbconvert_exporter": "python",
   "pygments_lexer": "ipython3",
   "version": "3.5.1"
  }
 },
 "nbformat": 4,
 "nbformat_minor": 0
}
