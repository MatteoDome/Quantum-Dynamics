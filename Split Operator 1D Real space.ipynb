{
 "cells": [
  {
   "cell_type": "code",
   "execution_count": null,
   "metadata": {
    "collapsed": false
   },
   "outputs": [],
   "source": [
    "import numpy as np\n",
    "#import holoviews as hv\n",
    "import scipy.sparse.linalg as linalg\n",
    "#matplotlib inline\n",
    "import matplotlib.pyplot as plt\n",
    "\n",
    "#hv.notebook_extension()"
   ]
  },
  {
   "cell_type": "code",
   "execution_count": null,
   "metadata": {
    "collapsed": true
   },
   "outputs": [],
   "source": [
    "dx = 1\n",
    "dt = 0.3\n",
    "x0 = 800\n",
    "L = 4000\n",
    "T = 150"
   ]
  },
  {
   "cell_type": "code",
   "execution_count": 1,
   "metadata": {
    "collapsed": true
   },
   "outputs": [],
   "source": [
    "def barrier(x):\n",
    "    if x>1500 and x<2000:\n",
    "        return 2\n",
    "    else:\n",
    "        return 0"
   ]
  },
  {
   "cell_type": "code",
   "execution_count": null,
   "metadata": {
    "collapsed": false
   },
   "outputs": [],
   "source": [
    "x = np.arange(0, L, 1)\n",
    "\n",
    "print(x)\n",
    "psi_r = np.zeros(shape = (int(L), int(T/dt))) + 0j\n",
    "\n",
    "psi_r[:, 0] = np.exp(-0.5*(x-800)**2/100**2 + 1j*0.15*x)\n",
    "psi_p = np.zeros(shape = (int(L), int(T/dt)))+0j\n",
    "\n",
    "#   Normalize wave function\n",
    "psi_r[:, 0] = psi_r[:,0]/np.linalg.norm(psi_r[:, 0])\n",
    "\n",
    "V = np.vectorize(barrier)(x)"
   ]
  },
  {
   "cell_type": "code",
   "execution_count": null,
   "metadata": {
    "collapsed": false
   },
   "outputs": [],
   "source": [
    "plt.plot(x, np.real(psi_r[:,0]))\n",
    "plt.show()"
   ]
  },
  {
   "cell_type": "code",
   "execution_count": null,
   "metadata": {
    "collapsed": false
   },
   "outputs": [],
   "source": [
    "for i in range(0, 30):\n",
    "    psi_p[:, i] = np.fft.fft(psi_r[:, i]*np.exp(-dt*V), norm = \"ortho\")\n",
    "    psi_r[:, i+1] = np.fft.ifft(psi_p[:, i] *np.exp(-dt*x**2/2), norm = \"ortho\")\n",
    "    plt.plot(x, np.real(psi_r[:, i]))\n",
    "    plt.show()"
   ]
  },
  {
   "cell_type": "code",
   "execution_count": null,
   "metadata": {
    "collapsed": false
   },
   "outputs": [],
   "source": [
    "%output holomap='scrubber'\n",
    "hv.HoloMap([(\n",
    "            i*dt, hv.Curve(np.real(psi_r[:, i])) )\n",
    "            for i in range(0,30)], kdims = [\"Time\"])"
   ]
  },
  {
   "cell_type": "code",
   "execution_count": null,
   "metadata": {
    "collapsed": true
   },
   "outputs": [],
   "source": []
  }
 ],
 "metadata": {
  "kernelspec": {
   "display_name": "Python 3",
   "language": "python",
   "name": "python3"
  },
  "language_info": {
   "codemirror_mode": {
    "name": "ipython",
    "version": 3
   },
   "file_extension": ".py",
   "mimetype": "text/x-python",
   "name": "python",
   "nbconvert_exporter": "python",
   "pygments_lexer": "ipython3",
   "version": "3.5.1"
  }
 },
 "nbformat": 4,
 "nbformat_minor": 0
}
